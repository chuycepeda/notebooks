{
 "cells": [
  {
   "cell_type": "markdown",
   "metadata": {},
   "source": [
    "# Python Data Structures Quick Reference"
   ]
  },
  {
   "cell_type": "markdown",
   "metadata": {},
   "source": [
    "## List"
   ]
  },
  {
   "cell_type": "code",
   "execution_count": 23,
   "metadata": {
    "collapsed": true
   },
   "outputs": [],
   "source": [
    "l = [1,2,3,4,5]\n",
    "la = ['a','b','c']"
   ]
  },
  {
   "cell_type": "code",
   "execution_count": 2,
   "metadata": {
    "collapsed": false
   },
   "outputs": [
    {
     "name": "stdout",
     "output_type": "stream",
     "text": [
      "[1, 2, 3, 4, 5]\n",
      "['a', 'b', 'c']\n"
     ]
    }
   ],
   "source": [
    "print l\n",
    "print la"
   ]
  },
  {
   "cell_type": "markdown",
   "metadata": {},
   "source": [
    "You can use lists as stacks and queues through \"pop\""
   ]
  },
  {
   "cell_type": "code",
   "execution_count": 3,
   "metadata": {
    "collapsed": false
   },
   "outputs": [
    {
     "name": "stdout",
     "output_type": "stream",
     "text": [
      "[1, 2, 3, 4, 5, 6]\n",
      "6\n",
      "[1, 2, 3, 4, 5]\n"
     ]
    }
   ],
   "source": [
    "# LIFO, stack\n",
    "l.append(6)\n",
    "print l\n",
    "print l.pop(-1)\n",
    "print l"
   ]
  },
  {
   "cell_type": "code",
   "execution_count": 4,
   "metadata": {
    "collapsed": false
   },
   "outputs": [
    {
     "name": "stdout",
     "output_type": "stream",
     "text": [
      "[0, 1, 2, 3, 4, 5]\n",
      "0\n",
      "[1, 2, 3, 4, 5]\n"
     ]
    }
   ],
   "source": [
    "# FIFO, queue\n",
    "l.insert(0,0)\n",
    "print l\n",
    "print l.pop(0)\n",
    "print l"
   ]
  },
  {
   "cell_type": "markdown",
   "metadata": {},
   "source": [
    "You can quickly count, sort, traverse or find elements"
   ]
  },
  {
   "cell_type": "code",
   "execution_count": 12,
   "metadata": {
    "collapsed": false
   },
   "outputs": [
    {
     "name": "stdout",
     "output_type": "stream",
     "text": [
      "5\n",
      "1\n",
      "2\n",
      "[1, 3, 5]\n",
      "[5, 4, 3, 2, 1]\n"
     ]
    }
   ],
   "source": [
    "print len(l)\n",
    "print l.count(2)\n",
    "print l.index(3)\n",
    "print l[::2]\n",
    "print l[::-1]"
   ]
  },
  {
   "cell_type": "markdown",
   "metadata": {},
   "source": [
    "You can also operate lists"
   ]
  },
  {
   "cell_type": "code",
   "execution_count": 19,
   "metadata": {
    "collapsed": false
   },
   "outputs": [
    {
     "name": "stdout",
     "output_type": "stream",
     "text": [
      "15\n",
      "abc\n"
     ]
    }
   ],
   "source": [
    "print sum(l)\n",
    "print ''.join(la)"
   ]
  },
  {
   "cell_type": "markdown",
   "metadata": {},
   "source": [
    "You can use a variant of list called <em>Tuple</em>, which is an immutable list"
   ]
  },
  {
   "cell_type": "code",
   "execution_count": 24,
   "metadata": {
    "collapsed": false
   },
   "outputs": [
    {
     "name": "stdout",
     "output_type": "stream",
     "text": [
      "(1, 2, 3, 4, 5)\n"
     ]
    }
   ],
   "source": [
    "print tuple(l)"
   ]
  },
  {
   "cell_type": "markdown",
   "metadata": {},
   "source": [
    "## Set"
   ]
  },
  {
   "cell_type": "code",
   "execution_count": 25,
   "metadata": {
    "collapsed": false
   },
   "outputs": [
    {
     "name": "stdout",
     "output_type": "stream",
     "text": [
      "set([1, 2, 3, 4, 5])\n"
     ]
    }
   ],
   "source": [
    "s = set(l)\n",
    "print s"
   ]
  },
  {
   "cell_type": "code",
   "execution_count": 31,
   "metadata": {
    "collapsed": false
   },
   "outputs": [
    {
     "name": "stdout",
     "output_type": "stream",
     "text": [
      "set([8, 4, 5, 6, 7])\n"
     ]
    }
   ],
   "source": [
    "t = {4,5,6,7,8,8,8}\n",
    "print t"
   ]
  },
  {
   "cell_type": "markdown",
   "metadata": {},
   "source": [
    "The good thing of sets, is they don't allow duplicates and are operable with mathematical operations such as:"
   ]
  },
  {
   "cell_type": "code",
   "execution_count": 27,
   "metadata": {
    "collapsed": false
   },
   "outputs": [
    {
     "name": "stdout",
     "output_type": "stream",
     "text": [
      "set([1, 2, 3, 4, 5, 6, 7])\n"
     ]
    }
   ],
   "source": [
    "#UNION\n",
    "A = {1,2,3,4,5}\n",
    "B = {3,4,5,6,7}\n",
    "print A | B"
   ]
  },
  {
   "cell_type": "code",
   "execution_count": 28,
   "metadata": {
    "collapsed": false
   },
   "outputs": [
    {
     "name": "stdout",
     "output_type": "stream",
     "text": [
      "set([3, 4, 5])\n"
     ]
    }
   ],
   "source": [
    "#INTERSECTION\n",
    "A = {1,2,3,4,5}\n",
    "B = {3,4,5,6,7}\n",
    "print A & B"
   ]
  },
  {
   "cell_type": "code",
   "execution_count": 29,
   "metadata": {
    "collapsed": false
   },
   "outputs": [
    {
     "name": "stdout",
     "output_type": "stream",
     "text": [
      "set([1, 2])\n"
     ]
    }
   ],
   "source": [
    "#DIFFERENCE\n",
    "A = {1,2,3,4,5}\n",
    "B = {3,4,5,6,7}\n",
    "print A - B"
   ]
  },
  {
   "cell_type": "code",
   "execution_count": 30,
   "metadata": {
    "collapsed": false
   },
   "outputs": [
    {
     "name": "stdout",
     "output_type": "stream",
     "text": [
      "set([1, 2, 6, 7])\n"
     ]
    }
   ],
   "source": [
    "#SYMMETRIC DIFFERENCE\n",
    "A = {1,2,3,4,5}\n",
    "B = {3,4,5,6,7}\n",
    "print A ^ B"
   ]
  },
  {
   "cell_type": "markdown",
   "metadata": {},
   "source": [
    "### Dictionaries"
   ]
  },
  {
   "cell_type": "code",
   "execution_count": 32,
   "metadata": {
    "collapsed": false
   },
   "outputs": [
    {
     "name": "stdout",
     "output_type": "stream",
     "text": [
      "{'key3': 3, 'key2': 'val2', 'key1': 'val1'}\n"
     ]
    }
   ],
   "source": [
    "d = {'key1': 'val1', 'key2': 'val2', 'key3': 3}\n",
    "print d"
   ]
  },
  {
   "cell_type": "code",
   "execution_count": 33,
   "metadata": {
    "collapsed": false
   },
   "outputs": [
    {
     "name": "stdout",
     "output_type": "stream",
     "text": [
      "['key3', 'key2', 'key1']\n"
     ]
    }
   ],
   "source": [
    "print d.keys()"
   ]
  },
  {
   "cell_type": "code",
   "execution_count": 34,
   "metadata": {
    "collapsed": false
   },
   "outputs": [
    {
     "name": "stdout",
     "output_type": "stream",
     "text": [
      "[3, 'val2', 'val1']\n"
     ]
    }
   ],
   "source": [
    "print d.values()"
   ]
  },
  {
   "cell_type": "code",
   "execution_count": 35,
   "metadata": {
    "collapsed": false
   },
   "outputs": [
    {
     "name": "stdout",
     "output_type": "stream",
     "text": [
      "[('key3', 3), ('key2', 'val2'), ('key1', 'val1')]\n"
     ]
    }
   ],
   "source": [
    "print d.items()"
   ]
  },
  {
   "cell_type": "markdown",
   "metadata": {},
   "source": [
    "<p>If you want the dictionary to remember the order of allocation, use OrderedDict</p>"
   ]
  },
  {
   "cell_type": "code",
   "execution_count": 37,
   "metadata": {
    "collapsed": false
   },
   "outputs": [
    {
     "name": "stdout",
     "output_type": "stream",
     "text": [
      "{'key3': 3, 'key2': 'val2', 'key1': 'val1'}\n",
      "OrderedDict([('key1', 'val1'), ('key2', 'val2'), ('key3', 3)])\n"
     ]
    }
   ],
   "source": [
    "from collections import OrderedDict\n",
    "d = {'key1': 'val1', 'key2': 'val2', 'key3': 3}\n",
    "print d\n",
    "od = OrderedDict(sorted(d.items(), key = lambda t:t[0]))\n",
    "print od\n"
   ]
  },
  {
   "cell_type": "markdown",
   "metadata": {},
   "source": [
    "<p>There's also a useful dictionary for situations of missing values, i.e.:"
   ]
  },
  {
   "cell_type": "code",
   "execution_count": 38,
   "metadata": {
    "collapsed": false
   },
   "outputs": [
    {
     "name": "stdout",
     "output_type": "stream",
     "text": [
      "defaultdict(<type 'int'>, {'i': 4, 'p': 1, 's': 3, 'm': 1})\n"
     ]
    }
   ],
   "source": [
    "from collections import defaultdict\n",
    "dd = defaultdict(int)\n",
    "s = 'missisipi'\n",
    "for k in s:\n",
    "    dd[k] += 1\n",
    "print dd"
   ]
  }
 ],
 "metadata": {
  "anaconda-cloud": {},
  "kernelspec": {
   "display_name": "Python [conda root]",
   "language": "python",
   "name": "conda-root-py"
  },
  "language_info": {
   "codemirror_mode": {
    "name": "ipython",
    "version": 2
   },
   "file_extension": ".py",
   "mimetype": "text/x-python",
   "name": "python",
   "nbconvert_exporter": "python",
   "pygments_lexer": "ipython2",
   "version": "2.7.12"
  }
 },
 "nbformat": 4,
 "nbformat_minor": 1
}
