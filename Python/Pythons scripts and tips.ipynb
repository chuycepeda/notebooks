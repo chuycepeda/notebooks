{
 "cells": [
  {
   "cell_type": "markdown",
   "metadata": {},
   "source": [
    "# Python tricks and handy libraries"
   ]
  },
  {
   "cell_type": "markdown",
   "metadata": {},
   "source": [
    "### Basics to remember"
   ]
  },
  {
   "cell_type": "code",
   "execution_count": 1,
   "metadata": {
    "collapsed": true
   },
   "outputs": [],
   "source": [
    "# Always approach and OOD as A C R A\n",
    "# A: handle ambiguity\n",
    "# C: define core objects\n",
    "# R: analyze relationships\n",
    "# A: investigate actions"
   ]
  },
  {
   "cell_type": "code",
   "execution_count": 2,
   "metadata": {
    "collapsed": true
   },
   "outputs": [],
   "source": [
    "# Always approach a design problem as S K I R\n",
    "# S: scope the problem\n",
    "# K: structure the architecture\n",
    "# I: identify key issues and bottlenecks\n",
    "# R: resolve the issues"
   ]
  },
  {
   "cell_type": "code",
   "execution_count": 3,
   "metadata": {
    "collapsed": true
   },
   "outputs": [],
   "source": [
    "# Always approach an algorithm implementation as EX PA SI BA DA\n",
    "# EX: examplify\n",
    "# PA: pattern matching\n",
    "# SI: simplify and generalize\n",
    "# BA: base case and build\n",
    "# DA: data structure brainstorm"
   ]
  },
  {
   "cell_type": "markdown",
   "metadata": {},
   "source": [
    "### Itertools"
   ]
  },
  {
   "cell_type": "code",
   "execution_count": 5,
   "metadata": {
    "collapsed": false
   },
   "outputs": [
    {
     "name": "stdout",
     "output_type": "stream",
     "text": [
      "['abc', 'acb', 'bac', 'bca', 'cab', 'cba']\n",
      "{'acb': 0, 'abc': 3, 'bac': 0, 'cab': 2, 'cba': 0, 'bca': 2}\n",
      "7\n"
     ]
    }
   ],
   "source": [
    "import itertools\n",
    "\n",
    "#count all permutations in a given string input\n",
    "z = [''.join(item) for item in itertools.permutations('abc',3)]\n",
    "print z\n",
    "s = \"abcabcabc\"\n",
    "counter = 0\n",
    "from collections import defaultdict\n",
    "dd = defaultdict(int)\n",
    "for i in z:\n",
    "    dd[i] += s.count(i)\n",
    "print dict(dd)\n",
    "print sum(dd.values())"
   ]
  },
  {
   "cell_type": "code",
   "execution_count": 6,
   "metadata": {
    "collapsed": false
   },
   "outputs": [
    {
     "name": "stdout",
     "output_type": "stream",
     "text": [
      "[('a', 'b', 'c', 'd'), ('b', 'c', 'd', 'e')]\n",
      "[('a', 'b', 'c'), ('b', 'c', 'd'), ('c', 'd', 'e')]\n",
      "[('a', 'b'), ('b', 'c'), ('c', 'd'), ('d', 'e')]\n"
     ]
    }
   ],
   "source": [
    "# ngrams\n",
    "l = ['a','b','c','d','e']\n",
    "def ngrams(a,n):\n",
    "    z = (itertools.islice(a,i,None) for i in range(n))\n",
    "    return zip(*z)\n",
    "print ngrams(l,4)\n",
    "print ngrams(l,3)\n",
    "print ngrams(l,2)"
   ]
  },
  {
   "cell_type": "markdown",
   "metadata": {},
   "source": [
    "### Collections"
   ]
  },
  {
   "cell_type": "code",
   "execution_count": 7,
   "metadata": {
    "collapsed": false
   },
   "outputs": [
    {
     "name": "stdout",
     "output_type": "stream",
     "text": [
      "[('a', 5), ('r', 2), ('b', 2)]\n"
     ]
    }
   ],
   "source": [
    "import collections\n",
    "\n",
    "#Counter example\n",
    "print collections.Counter('abracadabra').most_common(3)"
   ]
  },
  {
   "cell_type": "code",
   "execution_count": 8,
   "metadata": {
    "collapsed": false
   },
   "outputs": [
    {
     "name": "stdout",
     "output_type": "stream",
     "text": [
      "OrderedDict([('apple', 4), ('banana', 3), ('orange', 2), ('pear', 1)])\n",
      "OrderedDict([('pear', 1), ('orange', 2), ('banana', 3), ('apple', 4)])\n"
     ]
    }
   ],
   "source": [
    "#ordereddict\n",
    "d = {'banana':3, 'apple':4, 'orange':2, 'pear':1}\n",
    "print collections.OrderedDict(sorted(d.items(), key=lambda t:t[0]))\n",
    "print collections.OrderedDict(sorted(d.items(), key=lambda t:t[1]))\n"
   ]
  },
  {
   "cell_type": "markdown",
   "metadata": {},
   "source": [
    "### Heapq"
   ]
  },
  {
   "cell_type": "code",
   "execution_count": 9,
   "metadata": {
    "collapsed": false
   },
   "outputs": [
    {
     "name": "stdout",
     "output_type": "stream",
     "text": [
      "[1, 2, 3, 4, 5, 6, 7, 8, 9]\n"
     ]
    }
   ],
   "source": [
    "from heapq import heappush, heappop\n",
    "def heapsort(iterable):\n",
    "    h = []\n",
    "    for v in iterable:\n",
    "        heappush(h,v)\n",
    "    return [heappop(h) for i in range(len(h))]\n",
    "\n",
    "print heapsort([1,3,5,7,9,2,4,6,8])"
   ]
  },
  {
   "cell_type": "markdown",
   "metadata": {},
   "source": [
    "### Random"
   ]
  },
  {
   "cell_type": "code",
   "execution_count": 16,
   "metadata": {
    "collapsed": false
   },
   "outputs": [
    {
     "name": "stdout",
     "output_type": "stream",
     "text": [
      "0.415426612897\n",
      "9.32338071933\n",
      "7\n",
      "55\n",
      "j\n",
      "None\n",
      "[2, 3, 6, 1, 5]\n"
     ]
    }
   ],
   "source": [
    "import random\n",
    "\n",
    "print random.random()\n",
    "print random.uniform(1,10)\n",
    "print random.randint(1,10)\n",
    "print random.randrange(0,100,5)\n",
    "print random.choice('abcdefghijk')\n",
    "print random.shuffle([1,2,3,4,5,6,7,8,9,10])\n",
    "print random.sample([1,2,3,4,5,6,7,8,9,10], 5)"
   ]
  },
  {
   "cell_type": "markdown",
   "metadata": {},
   "source": [
    "### Re"
   ]
  },
  {
   "cell_type": "code",
   "execution_count": 17,
   "metadata": {
    "collapsed": false
   },
   "outputs": [
    {
     "name": "stdout",
     "output_type": "stream",
     "text": [
      "['12', '11', '10']\n"
     ]
    }
   ],
   "source": [
    "import re\n",
    "p = re.compile('\\d+')\n",
    "\n",
    "print p.findall('12 drummers drumming, 11 pipers piping, 10 lors a-leaping')"
   ]
  },
  {
   "cell_type": "markdown",
   "metadata": {},
   "source": [
    "### Tricks"
   ]
  },
  {
   "cell_type": "code",
   "execution_count": 24,
   "metadata": {
    "collapsed": false
   },
   "outputs": [
    {
     "name": "stdout",
     "output_type": "stream",
     "text": [
      "[2, 3, 4, 5, 6, 7]\n",
      "[6, 7]\n",
      "[9, 8, 7, 6, 5, 4, 3, 2, 1, 0]\n",
      "[0, 2, 4, 6, 8]\n"
     ]
    }
   ],
   "source": [
    "#slicing\n",
    "l = [0,1,2,3,4,5,6,7,8,9]\n",
    "print l[2:8]\n",
    "print l[-4:-2]\n",
    "print l[::-1]\n",
    "print l[::2]"
   ]
  },
  {
   "cell_type": "code",
   "execution_count": 26,
   "metadata": {
    "collapsed": false
   },
   "outputs": [
    {
     "name": "stdout",
     "output_type": "stream",
     "text": [
      "[(0, 'spring'), (1, 'summer'), (2, 'fall'), (3, 'winter')]\n"
     ]
    }
   ],
   "source": [
    "#enumerating\n",
    "l = ['spring','summer','fall', 'winter']\n",
    "print list(enumerate(l))"
   ]
  },
  {
   "cell_type": "code",
   "execution_count": 28,
   "metadata": {
    "collapsed": false
   },
   "outputs": [
    {
     "name": "stdout",
     "output_type": "stream",
     "text": [
      "[0, 3, 6, 9, 12, 15, 18, 21, 24, 27]\n",
      "[[0, 0, 0], [0, 0, 0], [0, 0, 0]]\n",
      "[1, 8, 27, 64, 125, 216, 343, 512, 729, 1000]\n"
     ]
    }
   ],
   "source": [
    "#list comprehension\n",
    "print [x for x in range(0,30) if x % 3 == 0]\n",
    "print [[0]*3 for i in range(3)]\n",
    "print [x*x*x for x in range(1,11)]\n",
    "\n"
   ]
  },
  {
   "cell_type": "code",
   "execution_count": 36,
   "metadata": {
    "collapsed": false
   },
   "outputs": [
    {
     "name": "stdout",
     "output_type": "stream",
     "text": [
      "8\n",
      "['apple', 'banana', 'orange', 'pear']\n"
     ]
    }
   ],
   "source": [
    "#lambda\n",
    "add = lambda x,y:x+y\n",
    "print add(3,5)\n",
    "\n",
    "d = {'banana':3, 'apple':4, 'orange':2, 'pear':1}\n",
    "print sorted(d, key=lambda x:x[0])\n"
   ]
  },
  {
   "cell_type": "code",
   "execution_count": 34,
   "metadata": {
    "collapsed": false
   },
   "outputs": [
    {
     "name": "stdout",
     "output_type": "stream",
     "text": [
      "(2, 1)\n"
     ]
    }
   ],
   "source": [
    "#divmod\n",
    "print divmod(5,2)"
   ]
  },
  {
   "cell_type": "code",
   "execution_count": 14,
   "metadata": {
    "collapsed": false
   },
   "outputs": [
    {
     "name": "stdout",
     "output_type": "stream",
     "text": [
      "[1, 2, 3, 4, 5, 6, 7, 8]\n"
     ]
    }
   ],
   "source": [
    "# flattening\n",
    "l = [1, 2, [3, 4], [[5, 6], [7, 8]]]\n",
    "flatten = lambda x: [y for z in x for y in flatten(z)] if type(x) is list else [x]\n",
    "print flatten(l)"
   ]
  },
  {
   "cell_type": "code",
   "execution_count": 15,
   "metadata": {
    "collapsed": false
   },
   "outputs": [
    {
     "name": "stdout",
     "output_type": "stream",
     "text": [
      "[(1, 2), (3, 4), (5, 6)]\n",
      "[(1, 2, 3), (4, 5, 6)]\n",
      "[(1, 2, 3, 4)]\n"
     ]
    }
   ],
   "source": [
    "# grouping\n",
    "l = [1, 2, 3, 4, 5, 6]\n",
    "group = lambda a, k: zip(*([iter(a)]*k))\n",
    "print group(l,2)\n",
    "print group(l,3)\n",
    "print group(l,4)\n"
   ]
  },
  {
   "cell_type": "code",
   "execution_count": 21,
   "metadata": {
    "collapsed": false
   },
   "outputs": [
    {
     "name": "stdout",
     "output_type": "stream",
     "text": [
      "[(1, 'a'), (2, 'b'), (3, 'c')]\n",
      "[(1, 2, 3), ('a', 'b', 'c')]\n",
      "{'a': 1, 'c': 3, 'b': 2, 'd': 4}\n",
      "{1: 'a', 2: 'b', 3: 'c', 4: 'd'}\n"
     ]
    }
   ],
   "source": [
    "# zip\n",
    "la = [1, 2, 3]\n",
    "lb = ['a', 'b', 'c']\n",
    "print zip(la,lb)\n",
    "lc = zip(la,lb)\n",
    "print zip(*lc)\n",
    "\n",
    "m={'a':1,'b':2,'c':3, 'd':4}\n",
    "print m\n",
    "print dict(zip(m.values(),m.keys()))\n"
   ]
  }
 ],
 "metadata": {
  "anaconda-cloud": {},
  "kernelspec": {
   "display_name": "Python [default]",
   "language": "python",
   "name": "python2"
  },
  "language_info": {
   "codemirror_mode": {
    "name": "ipython",
    "version": 2
   },
   "file_extension": ".py",
   "mimetype": "text/x-python",
   "name": "python",
   "nbconvert_exporter": "python",
   "pygments_lexer": "ipython2",
   "version": "2.7.12"
  }
 },
 "nbformat": 4,
 "nbformat_minor": 1
}
